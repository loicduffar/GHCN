{
 "cells": [
  {
   "cell_type": "markdown",
   "metadata": {},
   "source": [
    "# GHCN - Climatologic Daily Time Series Exploration (Precipitation, temperature min/min, ...)\n",
    "GHCN data: Global Historical Climatology Network https://www.ncdc.noaa.gov/ghcnd-data-access\n",
    "\n",
    "Python Script:  July 2020, L. Duffar https://github.com/loicduffar\n",
    "\n",
    "This notebook reads the 3 inventory files (not the measurements themselves), and display the informations in a single browser (station, country, period by parameter), allowing to apply filter (e.g. select country and/or stations). In addition a graph is plotted representing the number of stations for each year, and a map is displayed to show the station locations. Outputs can be saved in an excel file.\n",
    "\n",
    "The 3 inventory files (see below) should be downloaded from ftp://ftp.ncdc.noaa.gov/pub/data/ghcn/daily/, and stored to your local drive.\n",
    "\n",
    "- 1) Run the 1st cell below to read the informations and display the browser. \n",
    "     Browse the stations or apply filter to select a contry, and select the desired stations\n",
    "- 2) Run the 2nd cell to plot a graph representing Number of stations in operation, by parameter (only the ones filtered/selected)\n",
    "- 3) Run the 3rd cell to display a map with the location of the stations (only the ones filtered/selected)\n",
    "  If needed, run the cell 3bis to display the map in a separated big window\n",
    "- 4) If needed, save the selected list and the graph in an excel file"
   ]
  },
  {
   "attachments": {
    "image.png": {
     "image/png": "[encoded data removed]"
    }
   },
   "cell_type": "markdown",
   "metadata": {},
   "source": [
    "## 1) Files reading (stations, inventory, country), informations merging and interactive Browsing in a single table\n",
    "\n",
    "(Library qgrid v 1.3.1, compatible with pandas v 1)\n",
    "\n",
    "Inventory files to be downloaded and stored on your local drive:\n",
    "- ghcnd-stations.txt: Station ID, name, lon, lat, altitude, GSN network (plus an integer whose meaning is unknown)\n",
    "- ghcnd-inventory.txt: Period of measurement for each parameter\n",
    "- ghcnd-countries.txt: Extended country name, according the 2 first letters of the Station Id\n",
    "\n",
    "Tutorial:\n",
    "- a) Customize the files path (e.g. path= r\"C:\\Users\\...\")\n",
    "- b) Run the cell below to display the browser (period of measurement is indicated for each parameter by the year of beginning and ending)\n",
    "- c) Apply filter(s) by column (e.g. CTRY to select one country and ID to select station(s)) ![image.png](attachment:image.png)"
   ]
  },
  {
   "cell_type": "code",
   "execution_count": 50,
   "metadata": {},
   "outputs": [
    {
     "data": {
      "application/vnd.jupyter.widget-view+json": {
       "model_id": "adbd61712b1a4da89765839fee74befd",
       "version_major": 2,
       "version_minor": 0
      },
      "text/plain": [
       "QgridWidget(grid_options={'fullWidthRows': True, 'syncColumnCellResize': True, 'forceFitColumns': True, 'defau…"
      ]
     },
     "metadata": {},
     "output_type": "display_data"
    }
   ],
   "source": [
    "\"\"\"\n",
    "Created on Jul 2020\n",
    "@author: Loïc Duffar\n",
    "\"\"\"\n",
    "import pandas as pd\n",
    "import os\n",
    "from IPython.display import display\n",
    "import matplotlib.pyplot as plt\n",
    "import plotly.express as px\n",
    "import qgrid\n",
    "import matplotlib.pyplot as plt\n",
    "import numpy as np\n",
    "\n",
    "pd.set_option(\"display.max_rows\", None, \"display.max_columns\", None)\n",
    "\n",
    "#********** Customization **************************\n",
    "path= r\"C:\\Users\\DUFFAR\\Documents\\A\\Download\\Hydro-Climato\\NCEI (ex NCDC)\\GHCN\\Daily V3\".replace('\\\\', '/')\n",
    "path_online = r\"https://www.ncei.noaa.gov/data/global-historical-climatology-network-daily/access\"\n",
    "\n",
    "#********** Files reading **************************\n",
    "# --------------- STATIONS\n",
    "file_in= os.path.join(path,\"ghcnd-stations.txt\")\n",
    "header = ['ID', 'LAT', 'LON', 'ALT', 'STATE', 'NAME', 'GSN', 'Unknown']\n",
    "df = pd.read_fwf(file_in, colspecs='infer', infer_nrows=26000, names = header, index_col='ID')\n",
    "\n",
    "# --------------- INVENTORY (PARAMETER & PERIOD)\n",
    "file_in= os.path.join(path,\"ghcnd-inventory.txt\")\n",
    "header = ['ID', 'LAT', 'LON', 'PARAM', 'BEG', 'END']\n",
    "df2 = pd.read_fwf(file_in, colspecs='infer', infer_nrows=100, names = header, index_col='ID')\n",
    "cols = ['PARAM', 'BEG', 'END' ]\n",
    "lparam = ['PRCP', 'TMIN', 'TMAX', 'EVAP', 'SNOW', 'SNWD']# can be completed if needed (additionnal parameters are numerous)\n",
    "for param in lparam:\n",
    "    for col in cols[1:]:\n",
    "        df[param+'_'+col] = df2.loc[df2['PARAM']==param, col]\n",
    "\n",
    "# --------------- COUNTRY\n",
    "file_in= os.path.join(path,\"ghcnd-countries.txt\")\n",
    "header = ['CTRY_ID', 'CTRY']\n",
    "df2 = pd.read_fwf(file_in, colspecs='infer', infer_nrows=100, names = header, index_col='CTRY_ID')\n",
    "list = []\n",
    "for id in df.index:\n",
    "    list.append( df2.loc[ id[:2], 'CTRY'] )\n",
    "df['CTRY'] = list\n",
    "\n",
    "#********** Display Informations in a browser ******************\n",
    "widget = qgrid.show_grid(df, show_toolbar=True)\n",
    "display(widget)"
   ]
  },
  {
   "cell_type": "markdown",
   "metadata": {},
   "source": [
    " ## 2) Graph representing Number of stations in operation, by parameter\n",
    " (library matplotlib)\n",
    "\n",
    "- a) Run the cell below to display the graph representing \"Number of stations in operation\"\n",
    "- b) Re run the cell below after each filter application in the browser, to update the graphe"
   ]
  },
  {
   "cell_type": "code",
   "execution_count": 48,
   "metadata": {
    "scrolled": false
   },
   "outputs": [
    {
     "data": {
      "text/plain": [
       "\" ----------- Not functional\\n# Automatic update of the graph according to the filter(s) applied in the browser above\\n# To be used in conjunction with the instruction '%matplotlib notebook' above (disabled at this time)\\nwidget.on('filter_changed', handle_filter_changed)    \\n\\ndef handle_filter_changed(event, widget):\\n    stat_numbers = pd.DataFrame(None, index=years, columns=lparam)\\n    for param in lparam:\\n        for year in years:\\n            stat_numbers.loc[year, param] = qg_df.loc[ (qg_df[param+'_BEG']<=year) & (qg_df[param+'_END']>=year),  param+'_BEG'].count()\\n    lines.set_data(stat_number)\\n    fig = plt.gcf()\\n    fig.canvas.draw()\\n\""
      ]
     },
     "execution_count": 48,
     "metadata": {},
     "output_type": "execute_result"
    },
    {
     "data": {
      "image/png": "[encoded data removed]",
      "text/plain": [
       "<Figure size 1440x288 with 1 Axes>"
      ]
     },
     "metadata": {
      "needs_background": "light"
     },
     "output_type": "display_data"
    }
   ],
   "source": [
    "# ******************** Work in progress\n",
    "qg_df = widget.get_changed_df()\n",
    "year_min = 9999\n",
    "year_max = 0\n",
    "for param in lparam:\n",
    "    if qg_df[param+'_BEG'].min()<year_min: year_min = qg_df[param+'_BEG'].min()\n",
    "    if qg_df[param+'_END'].max()>year_max: year_max = qg_df[param+'_END'].max()\n",
    "years = np.arange(year_min, year_max+1 )\n",
    "\n",
    "stat_numbers = pd.DataFrame(None, index=years, columns=lparam)\n",
    "for param in lparam:\n",
    "    for year in years:\n",
    "        stat_numbers.loc[year, param] = qg_df.loc[ (qg_df[param+'_BEG']<=year) & (qg_df[param+'_END']>=year),  param+'_BEG'].count()\n",
    "\n",
    "lines = stat_numbers.plot(figsize=(20, 4))\n",
    "plt.xlabel('Year')\n",
    "plt.ylabel('Number of stations')\n",
    "plt.title('Number of stations in operation, by parameter')\n",
    "if os.path.exists('../out')==False: os.mkdir('../out')\n",
    "plt.savefig('../out/GTHCN - Stations number.png', dpi=300)\n",
    "\n",
    "\"\"\" ----------- Not functional\n",
    "# Automatic update of the graph according to the filter(s) applied in the browser above\n",
    "# To be used in conjunction with the instruction '%matplotlib notebook' above (disabled at this time)\n",
    "widget.on('filter_changed', handle_filter_changed)    \n",
    "\n",
    "def handle_filter_changed(event, widget):\n",
    "    stat_numbers = pd.DataFrame(None, index=years, columns=lparam)\n",
    "    for param in lparam:\n",
    "        for year in years:\n",
    "            stat_numbers.loc[year, param] = qg_df.loc[ (qg_df[param+'_BEG']<=year) & (qg_df[param+'_END']>=year),  param+'_BEG'].count()\n",
    "    lines.set_data(stat_number)\n",
    "    fig = plt.gcf()\n",
    "    fig.canvas.draw()\n",
    "\"\"\""
   ]
  },
  {
   "cell_type": "markdown",
   "metadata": {},
   "source": [
    "## 3) Display the stations map\n",
    "(Library Plotly - Scattermapbox)\n",
    "- a) Run the cell below to display a map of the stations (all parameters combined)\n",
    "- b) Re run the cell below after each filter application in the browser, to update the map "
   ]
  },
  {
   "cell_type": "code",
   "execution_count": 49,
   "metadata": {},
   "outputs": [
    {
     "data": {
      "application/vnd.plotly.v1+json": {
       "config": {
        "plotlyServerURL": "https://plot.ly"
       },
       "data": [
        {
         "hoverinfo": "text",
         "lat": [
          4.217,
          3.62,
          1.483,
          3.2,
          5.3,
          5.9,
          5.297,
          6.167,
          3.131,
          2.746,
          2.263,
          2.45,
          2.262,
          4.322,
          5.937,
          4.313
         ],
         "lon": [
          100.7,
          103.22,
          110.333,
          113.033,
          115.25,
          118.067,
          100.277,
          102.293,
          101.549,
          101.71,
          102.252,
          103.833,
          111.985,
          113.987,
          116.051,
          118.122
         ],
         "marker": {
          "color": "red",
          "size": 5
         },
         "mode": "markers",
         "text": [
          "MY000048620 - SITIAWAN",
          "MY000048657 - KUANTAN",
          "MY000096413 - KUCHING",
          "MY000096441 - BINTULU",
          "MY000096465 - LABUAN",
          "MY000096491 - SANDAKAN",
          "MYM00048601 - PENANG INTL",
          "MYM00048615 - SULTAN ISMAIL PETRA",
          "MYM00048647 - SULTAN ABDUL AZIZ SHAH INTL",
          "MYM00048650 - KUALA LUMPUR INTL",
          "MYM00048665 - MALACCA",
          "MYM00048674 - MERSING",
          "MYM00096421 - SIBU",
          "MYM00096449 - MIRI",
          "MYM00096471 - KOTA KINABALU INTL",
          "MYM00096481 - TAWAU"
         ],
         "type": "scattermapbox"
        }
       ],
       "layout": {
        "mapbox": {
         "center": {
          "lat": 7.5,
          "lon": 80.9
         },
         "style": "open-street-map",
         "zoom": 1
        },
        "margin": {
         "b": 0,
         "l": 0,
         "r": 0,
         "t": 0
        },
        "template": {
         "data": {
          "bar": [
           {
            "error_x": {
             "color": "#2a3f5f"
            },
            "error_y": {
             "color": "#2a3f5f"
            },
            "marker": {
             "line": {
              "color": "#E5ECF6",
              "width": 0.5
             }
            },
            "type": "bar"
           }
          ],
          "barpolar": [
           {
            "marker": {
             "line": {
              "color": "#E5ECF6",
              "width": 0.5
             }
            },
            "type": "barpolar"
           }
          ],
          "carpet": [
           {
            "aaxis": {
             "endlinecolor": "#2a3f5f",
             "gridcolor": "white",
             "linecolor": "white",
             "minorgridcolor": "white",
             "startlinecolor": "#2a3f5f"
            },
            "baxis": {
             "endlinecolor": "#2a3f5f",
             "gridcolor": "white",
             "linecolor": "white",
             "minorgridcolor": "white",
             "startlinecolor": "#2a3f5f"
            },
            "type": "carpet"
           }
          ],
          "choropleth": [
           {
            "colorbar": {
             "outlinewidth": 0,
             "ticks": ""
            },
            "type": "choropleth"
           }
          ],
          "contour": [
           {
            "colorbar": {
             "outlinewidth": 0,
             "ticks": ""
            },
            "colorscale": [
             [
              0,
              "#0d0887"
             ],
             [
              0.1111111111111111,
              "#46039f"
             ],
             [
              0.2222222222222222,
              "#7201a8"
             ],
             [
              0.3333333333333333,
              "#9c179e"
             ],
             [
              0.4444444444444444,
              "#bd3786"
             ],
             [
              0.5555555555555556,
              "#d8576b"
             ],
             [
              0.6666666666666666,
              "#ed7953"
             ],
             [
              0.7777777777777778,
              "#fb9f3a"
             ],
             [
              0.8888888888888888,
              "#fdca26"
             ],
             [
              1,
              "#f0f921"
             ]
            ],
            "type": "contour"
           }
          ],
          "contourcarpet": [
           {
            "colorbar": {
             "outlinewidth": 0,
             "ticks": ""
            },
            "type": "contourcarpet"
           }
          ],
          "heatmap": [
           {
            "colorbar": {
             "outlinewidth": 0,
             "ticks": ""
            },
            "colorscale": [
             [
              0,
              "#0d0887"
             ],
             [
              0.1111111111111111,
              "#46039f"
             ],
             [
              0.2222222222222222,
              "#7201a8"
             ],
             [
              0.3333333333333333,
              "#9c179e"
             ],
             [
              0.4444444444444444,
              "#bd3786"
             ],
             [
              0.5555555555555556,
              "#d8576b"
             ],
             [
              0.6666666666666666,
              "#ed7953"
             ],
             [
              0.7777777777777778,
              "#fb9f3a"
             ],
             [
              0.8888888888888888,
              "#fdca26"
             ],
             [
              1,
              "#f0f921"
             ]
            ],
            "type": "heatmap"
           }
          ],
          "heatmapgl": [
           {
            "colorbar": {
             "outlinewidth": 0,
             "ticks": ""
            },
            "colorscale": [
             [
              0,
              "#0d0887"
             ],
             [
              0.1111111111111111,
              "#46039f"
             ],
             [
              0.2222222222222222,
              "#7201a8"
             ],
             [
              0.3333333333333333,
              "#9c179e"
             ],
             [
              0.4444444444444444,
              "#bd3786"
             ],
             [
              0.5555555555555556,
              "#d8576b"
             ],
             [
              0.6666666666666666,
              "#ed7953"
             ],
             [
              0.7777777777777778,
              "#fb9f3a"
             ],
             [
              0.8888888888888888,
              "#fdca26"
             ],
             [
              1,
              "#f0f921"
             ]
            ],
            "type": "heatmapgl"
           }
          ],
          "histogram": [
           {
            "marker": {
             "colorbar": {
              "outlinewidth": 0,
              "ticks": ""
             }
            },
            "type": "histogram"
           }
          ],
          "histogram2d": [
           {
            "colorbar": {
             "outlinewidth": 0,
             "ticks": ""
            },
            "colorscale": [
             [
              0,
              "#0d0887"
             ],
             [
              0.1111111111111111,
              "#46039f"
             ],
             [
              0.2222222222222222,
              "#7201a8"
             ],
             [
              0.3333333333333333,
              "#9c179e"
             ],
             [
              0.4444444444444444,
              "#bd3786"
             ],
             [
              0.5555555555555556,
              "#d8576b"
             ],
             [
              0.6666666666666666,
              "#ed7953"
             ],
             [
              0.7777777777777778,
              "#fb9f3a"
             ],
             [
              0.8888888888888888,
              "#fdca26"
             ],
             [
              1,
              "#f0f921"
             ]
            ],
            "type": "histogram2d"
           }
          ],
          "histogram2dcontour": [
           {
            "colorbar": {
             "outlinewidth": 0,
             "ticks": ""
            },
            "colorscale": [
             [
              0,
              "#0d0887"
             ],
             [
              0.1111111111111111,
              "#46039f"
             ],
             [
              0.2222222222222222,
              "#7201a8"
             ],
             [
              0.3333333333333333,
              "#9c179e"
             ],
             [
              0.4444444444444444,
              "#bd3786"
             ],
             [
              0.5555555555555556,
              "#d8576b"
             ],
             [
              0.6666666666666666,
              "#ed7953"
             ],
             [
              0.7777777777777778,
              "#fb9f3a"
             ],
             [
              0.8888888888888888,
              "#fdca26"
             ],
             [
              1,
              "#f0f921"
             ]
            ],
            "type": "histogram2dcontour"
           }
          ],
          "mesh3d": [
           {
            "colorbar": {
             "outlinewidth": 0,
             "ticks": ""
            },
            "type": "mesh3d"
           }
          ],
          "parcoords": [
           {
            "line": {
             "colorbar": {
              "outlinewidth": 0,
              "ticks": ""
             }
            },
            "type": "parcoords"
           }
          ],
          "pie": [
           {
            "automargin": true,
            "type": "pie"
           }
          ],
          "scatter": [
           {
            "marker": {
             "colorbar": {
              "outlinewidth": 0,
              "ticks": ""
             }
            },
            "type": "scatter"
           }
          ],
          "scatter3d": [
           {
            "line": {
             "colorbar": {
              "outlinewidth": 0,
              "ticks": ""
             }
            },
            "marker": {
             "colorbar": {
              "outlinewidth": 0,
              "ticks": ""
             }
            },
            "type": "scatter3d"
           }
          ],
          "scattercarpet": [
           {
            "marker": {
             "colorbar": {
              "outlinewidth": 0,
              "ticks": ""
             }
            },
            "type": "scattercarpet"
           }
          ],
          "scattergeo": [
           {
            "marker": {
             "colorbar": {
              "outlinewidth": 0,
              "ticks": ""
             }
            },
            "type": "scattergeo"
           }
          ],
          "scattergl": [
           {
            "marker": {
             "colorbar": {
              "outlinewidth": 0,
              "ticks": ""
             }
            },
            "type": "scattergl"
           }
          ],
          "scattermapbox": [
           {
            "marker": {
             "colorbar": {
              "outlinewidth": 0,
              "ticks": ""
             }
            },
            "type": "scattermapbox"
           }
          ],
          "scatterpolar": [
           {
            "marker": {
             "colorbar": {
              "outlinewidth": 0,
              "ticks": ""
             }
            },
            "type": "scatterpolar"
           }
          ],
          "scatterpolargl": [
           {
            "marker": {
             "colorbar": {
              "outlinewidth": 0,
              "ticks": ""
             }
            },
            "type": "scatterpolargl"
           }
          ],
          "scatterternary": [
           {
            "marker": {
             "colorbar": {
              "outlinewidth": 0,
              "ticks": ""
             }
            },
            "type": "scatterternary"
           }
          ],
          "surface": [
           {
            "colorbar": {
             "outlinewidth": 0,
             "ticks": ""
            },
            "colorscale": [
             [
              0,
              "#0d0887"
             ],
             [
              0.1111111111111111,
              "#46039f"
             ],
             [
              0.2222222222222222,
              "#7201a8"
             ],
             [
              0.3333333333333333,
              "#9c179e"
             ],
             [
              0.4444444444444444,
              "#bd3786"
             ],
             [
              0.5555555555555556,
              "#d8576b"
             ],
             [
              0.6666666666666666,
              "#ed7953"
             ],
             [
              0.7777777777777778,
              "#fb9f3a"
             ],
             [
              0.8888888888888888,
              "#fdca26"
             ],
             [
              1,
              "#f0f921"
             ]
            ],
            "type": "surface"
           }
          ],
          "table": [
           {
            "cells": {
             "fill": {
              "color": "#EBF0F8"
             },
             "line": {
              "color": "white"
             }
            },
            "header": {
             "fill": {
              "color": "#C8D4E3"
             },
             "line": {
              "color": "white"
             }
            },
            "type": "table"
           }
          ]
         },
         "layout": {
          "annotationdefaults": {
           "arrowcolor": "#2a3f5f",
           "arrowhead": 0,
           "arrowwidth": 1
          },
          "coloraxis": {
           "colorbar": {
            "outlinewidth": 0,
            "ticks": ""
           }
          },
          "colorscale": {
           "diverging": [
            [
             0,
             "#8e0152"
            ],
            [
             0.1,
             "#c51b7d"
            ],
            [
             0.2,
             "#de77ae"
            ],
            [
             0.3,
             "#f1b6da"
            ],
            [
             0.4,
             "#fde0ef"
            ],
            [
             0.5,
             "#f7f7f7"
            ],
            [
             0.6,
             "#e6f5d0"
            ],
            [
             0.7,
             "#b8e186"
            ],
            [
             0.8,
             "#7fbc41"
            ],
            [
             0.9,
             "#4d9221"
            ],
            [
             1,
             "#276419"
            ]
           ],
           "sequential": [
            [
             0,
             "#0d0887"
            ],
            [
             0.1111111111111111,
             "#46039f"
            ],
            [
             0.2222222222222222,
             "#7201a8"
            ],
            [
             0.3333333333333333,
             "#9c179e"
            ],
            [
             0.4444444444444444,
             "#bd3786"
            ],
            [
             0.5555555555555556,
             "#d8576b"
            ],
            [
             0.6666666666666666,
             "#ed7953"
            ],
            [
             0.7777777777777778,
             "#fb9f3a"
            ],
            [
             0.8888888888888888,
             "#fdca26"
            ],
            [
             1,
             "#f0f921"
            ]
           ],
           "sequentialminus": [
            [
             0,
             "#0d0887"
            ],
            [
             0.1111111111111111,
             "#46039f"
            ],
            [
             0.2222222222222222,
             "#7201a8"
            ],
            [
             0.3333333333333333,
             "#9c179e"
            ],
            [
             0.4444444444444444,
             "#bd3786"
            ],
            [
             0.5555555555555556,
             "#d8576b"
            ],
            [
             0.6666666666666666,
             "#ed7953"
            ],
            [
             0.7777777777777778,
             "#fb9f3a"
            ],
            [
             0.8888888888888888,
             "#fdca26"
            ],
            [
             1,
             "#f0f921"
            ]
           ]
          },
          "colorway": [
           "#636efa",
           "#EF553B",
           "#00cc96",
           "#ab63fa",
           "#FFA15A",
           "#19d3f3",
           "#FF6692",
           "#B6E880",
           "#FF97FF",
           "#FECB52"
          ],
          "font": {
           "color": "#2a3f5f"
          },
          "geo": {
           "bgcolor": "white",
           "lakecolor": "white",
           "landcolor": "#E5ECF6",
           "showlakes": true,
           "showland": true,
           "subunitcolor": "white"
          },
          "hoverlabel": {
           "align": "left"
          },
          "hovermode": "closest",
          "mapbox": {
           "style": "light"
          },
          "paper_bgcolor": "white",
          "plot_bgcolor": "#E5ECF6",
          "polar": {
           "angularaxis": {
            "gridcolor": "white",
            "linecolor": "white",
            "ticks": ""
           },
           "bgcolor": "#E5ECF6",
           "radialaxis": {
            "gridcolor": "white",
            "linecolor": "white",
            "ticks": ""
           }
          },
          "scene": {
           "xaxis": {
            "backgroundcolor": "#E5ECF6",
            "gridcolor": "white",
            "gridwidth": 2,
            "linecolor": "white",
            "showbackground": true,
            "ticks": "",
            "zerolinecolor": "white"
           },
           "yaxis": {
            "backgroundcolor": "#E5ECF6",
            "gridcolor": "white",
            "gridwidth": 2,
            "linecolor": "white",
            "showbackground": true,
            "ticks": "",
            "zerolinecolor": "white"
           },
           "zaxis": {
            "backgroundcolor": "#E5ECF6",
            "gridcolor": "white",
            "gridwidth": 2,
            "linecolor": "white",
            "showbackground": true,
            "ticks": "",
            "zerolinecolor": "white"
           }
          },
          "shapedefaults": {
           "line": {
            "color": "#2a3f5f"
           }
          },
          "ternary": {
           "aaxis": {
            "gridcolor": "white",
            "linecolor": "white",
            "ticks": ""
           },
           "baxis": {
            "gridcolor": "white",
            "linecolor": "white",
            "ticks": ""
           },
           "bgcolor": "#E5ECF6",
           "caxis": {
            "gridcolor": "white",
            "linecolor": "white",
            "ticks": ""
           }
          },
          "title": {
           "x": 0.05
          },
          "xaxis": {
           "automargin": true,
           "gridcolor": "white",
           "linecolor": "white",
           "ticks": "",
           "title": {
            "standoff": 15
           },
           "zerolinecolor": "white",
           "zerolinewidth": 2
          },
          "yaxis": {
           "automargin": true,
           "gridcolor": "white",
           "linecolor": "white",
           "ticks": "",
           "title": {
            "standoff": 15
           },
           "zerolinecolor": "white",
           "zerolinewidth": 2
          }
         }
        }
       }
      },
      "text/html": [
       "<div>\n",
       "        \n",
       "        \n",
       "            <div id=\"af58dbfd-1418-4a10-ba7f-242db1df2161\" class=\"plotly-graph-div\" style=\"height:525px; width:100%;\"></div>\n",
       "            <script type=\"text/javascript\">\n",
       "                require([\"plotly\"], function(Plotly) {\n",
       "                    window.PLOTLYENV=window.PLOTLYENV || {};\n",
       "                    \n",
       "                if (document.getElementById(\"af58dbfd-1418-4a10-ba7f-242db1df2161\")) {\n",
       "                    Plotly.newPlot(\n",
       "                        'af58dbfd-1418-4a10-ba7f-242db1df2161',\n",
       "                        [{\"hoverinfo\": \"text\", \"lat\": [4.217, 3.62, 1.483, 3.2, 5.3, 5.9, 5.297, 6.167, 3.131, 2.746, 2.263, 2.45, 2.262, 4.322, 5.937, 4.313], \"lon\": [100.7, 103.22, 110.333, 113.033, 115.25, 118.067, 100.277, 102.293, 101.549, 101.71, 102.252, 103.833, 111.985, 113.987, 116.051, 118.122], \"marker\": {\"color\": \"red\", \"size\": 5}, \"mode\": \"markers\", \"text\": [\"MY000048620 - SITIAWAN\", \"MY000048657 - KUANTAN\", \"MY000096413 - KUCHING\", \"MY000096441 - BINTULU\", \"MY000096465 - LABUAN\", \"MY000096491 - SANDAKAN\", \"MYM00048601 - PENANG INTL\", \"MYM00048615 - SULTAN ISMAIL PETRA\", \"MYM00048647 - SULTAN ABDUL AZIZ SHAH INTL\", \"MYM00048650 - KUALA LUMPUR INTL\", \"MYM00048665 - MALACCA\", \"MYM00048674 - MERSING\", \"MYM00096421 - SIBU\", \"MYM00096449 - MIRI\", \"MYM00096471 - KOTA KINABALU INTL\", \"MYM00096481 - TAWAU\"], \"type\": \"scattermapbox\"}],\n",
       "                        {\"mapbox\": {\"center\": {\"lat\": 7.5, \"lon\": 80.9}, \"style\": \"open-street-map\", \"zoom\": 1}, \"margin\": {\"b\": 0, \"l\": 0, \"r\": 0, \"t\": 0}, \"template\": {\"data\": {\"bar\": [{\"error_x\": {\"color\": \"#2a3f5f\"}, \"error_y\": {\"color\": \"#2a3f5f\"}, \"marker\": {\"line\": {\"color\": \"#E5ECF6\", \"width\": 0.5}}, \"type\": \"bar\"}], \"barpolar\": [{\"marker\": {\"line\": {\"color\": \"#E5ECF6\", \"width\": 0.5}}, \"type\": \"barpolar\"}], \"carpet\": [{\"aaxis\": {\"endlinecolor\": \"#2a3f5f\", \"gridcolor\": \"white\", \"linecolor\": \"white\", \"minorgridcolor\": \"white\", \"startlinecolor\": \"#2a3f5f\"}, \"baxis\": {\"endlinecolor\": \"#2a3f5f\", \"gridcolor\": \"white\", \"linecolor\": \"white\", \"minorgridcolor\": \"white\", \"startlinecolor\": \"#2a3f5f\"}, \"type\": \"carpet\"}], \"choropleth\": [{\"colorbar\": {\"outlinewidth\": 0, \"ticks\": \"\"}, \"type\": \"choropleth\"}], \"contour\": [{\"colorbar\": {\"outlinewidth\": 0, \"ticks\": \"\"}, \"colorscale\": [[0.0, \"#0d0887\"], [0.1111111111111111, \"#46039f\"], [0.2222222222222222, \"#7201a8\"], [0.3333333333333333, \"#9c179e\"], [0.4444444444444444, \"#bd3786\"], [0.5555555555555556, \"#d8576b\"], [0.6666666666666666, \"#ed7953\"], [0.7777777777777778, \"#fb9f3a\"], [0.8888888888888888, \"#fdca26\"], [1.0, \"#f0f921\"]], \"type\": \"contour\"}], \"contourcarpet\": [{\"colorbar\": {\"outlinewidth\": 0, \"ticks\": \"\"}, \"type\": \"contourcarpet\"}], \"heatmap\": [{\"colorbar\": {\"outlinewidth\": 0, \"ticks\": \"\"}, \"colorscale\": [[0.0, \"#0d0887\"], [0.1111111111111111, \"#46039f\"], [0.2222222222222222, \"#7201a8\"], [0.3333333333333333, \"#9c179e\"], [0.4444444444444444, \"#bd3786\"], [0.5555555555555556, \"#d8576b\"], [0.6666666666666666, \"#ed7953\"], [0.7777777777777778, \"#fb9f3a\"], [0.8888888888888888, \"#fdca26\"], [1.0, \"#f0f921\"]], \"type\": \"heatmap\"}], \"heatmapgl\": [{\"colorbar\": {\"outlinewidth\": 0, \"ticks\": \"\"}, \"colorscale\": [[0.0, \"#0d0887\"], [0.1111111111111111, \"#46039f\"], [0.2222222222222222, \"#7201a8\"], [0.3333333333333333, \"#9c179e\"], [0.4444444444444444, \"#bd3786\"], [0.5555555555555556, \"#d8576b\"], [0.6666666666666666, \"#ed7953\"], [0.7777777777777778, \"#fb9f3a\"], [0.8888888888888888, \"#fdca26\"], [1.0, \"#f0f921\"]], \"type\": \"heatmapgl\"}], \"histogram\": [{\"marker\": {\"colorbar\": {\"outlinewidth\": 0, \"ticks\": \"\"}}, \"type\": \"histogram\"}], \"histogram2d\": [{\"colorbar\": {\"outlinewidth\": 0, \"ticks\": \"\"}, \"colorscale\": [[0.0, \"#0d0887\"], [0.1111111111111111, \"#46039f\"], [0.2222222222222222, \"#7201a8\"], [0.3333333333333333, \"#9c179e\"], [0.4444444444444444, \"#bd3786\"], [0.5555555555555556, \"#d8576b\"], [0.6666666666666666, \"#ed7953\"], [0.7777777777777778, \"#fb9f3a\"], [0.8888888888888888, \"#fdca26\"], [1.0, \"#f0f921\"]], \"type\": \"histogram2d\"}], \"histogram2dcontour\": [{\"colorbar\": {\"outlinewidth\": 0, \"ticks\": \"\"}, \"colorscale\": [[0.0, \"#0d0887\"], [0.1111111111111111, \"#46039f\"], [0.2222222222222222, \"#7201a8\"], [0.3333333333333333, \"#9c179e\"], [0.4444444444444444, \"#bd3786\"], [0.5555555555555556, \"#d8576b\"], [0.6666666666666666, \"#ed7953\"], [0.7777777777777778, \"#fb9f3a\"], [0.8888888888888888, \"#fdca26\"], [1.0, \"#f0f921\"]], \"type\": \"histogram2dcontour\"}], \"mesh3d\": [{\"colorbar\": {\"outlinewidth\": 0, \"ticks\": \"\"}, \"type\": \"mesh3d\"}], \"parcoords\": [{\"line\": {\"colorbar\": {\"outlinewidth\": 0, \"ticks\": \"\"}}, \"type\": \"parcoords\"}], \"pie\": [{\"automargin\": true, \"type\": \"pie\"}], \"scatter\": [{\"marker\": {\"colorbar\": {\"outlinewidth\": 0, \"ticks\": \"\"}}, \"type\": \"scatter\"}], \"scatter3d\": [{\"line\": {\"colorbar\": {\"outlinewidth\": 0, \"ticks\": \"\"}}, \"marker\": {\"colorbar\": {\"outlinewidth\": 0, \"ticks\": \"\"}}, \"type\": \"scatter3d\"}], \"scattercarpet\": [{\"marker\": {\"colorbar\": {\"outlinewidth\": 0, \"ticks\": \"\"}}, \"type\": \"scattercarpet\"}], \"scattergeo\": [{\"marker\": {\"colorbar\": {\"outlinewidth\": 0, \"ticks\": \"\"}}, \"type\": \"scattergeo\"}], \"scattergl\": [{\"marker\": {\"colorbar\": {\"outlinewidth\": 0, \"ticks\": \"\"}}, \"type\": \"scattergl\"}], \"scattermapbox\": [{\"marker\": {\"colorbar\": {\"outlinewidth\": 0, \"ticks\": \"\"}}, \"type\": \"scattermapbox\"}], \"scatterpolar\": [{\"marker\": {\"colorbar\": {\"outlinewidth\": 0, \"ticks\": \"\"}}, \"type\": \"scatterpolar\"}], \"scatterpolargl\": [{\"marker\": {\"colorbar\": {\"outlinewidth\": 0, \"ticks\": \"\"}}, \"type\": \"scatterpolargl\"}], \"scatterternary\": [{\"marker\": {\"colorbar\": {\"outlinewidth\": 0, \"ticks\": \"\"}}, \"type\": \"scatterternary\"}], \"surface\": [{\"colorbar\": {\"outlinewidth\": 0, \"ticks\": \"\"}, \"colorscale\": [[0.0, \"#0d0887\"], [0.1111111111111111, \"#46039f\"], [0.2222222222222222, \"#7201a8\"], [0.3333333333333333, \"#9c179e\"], [0.4444444444444444, \"#bd3786\"], [0.5555555555555556, \"#d8576b\"], [0.6666666666666666, \"#ed7953\"], [0.7777777777777778, \"#fb9f3a\"], [0.8888888888888888, \"#fdca26\"], [1.0, \"#f0f921\"]], \"type\": \"surface\"}], \"table\": [{\"cells\": {\"fill\": {\"color\": \"#EBF0F8\"}, \"line\": {\"color\": \"white\"}}, \"header\": {\"fill\": {\"color\": \"#C8D4E3\"}, \"line\": {\"color\": \"white\"}}, \"type\": \"table\"}]}, \"layout\": {\"annotationdefaults\": {\"arrowcolor\": \"#2a3f5f\", \"arrowhead\": 0, \"arrowwidth\": 1}, \"coloraxis\": {\"colorbar\": {\"outlinewidth\": 0, \"ticks\": \"\"}}, \"colorscale\": {\"diverging\": [[0, \"#8e0152\"], [0.1, \"#c51b7d\"], [0.2, \"#de77ae\"], [0.3, \"#f1b6da\"], [0.4, \"#fde0ef\"], [0.5, \"#f7f7f7\"], [0.6, \"#e6f5d0\"], [0.7, \"#b8e186\"], [0.8, \"#7fbc41\"], [0.9, \"#4d9221\"], [1, \"#276419\"]], \"sequential\": [[0.0, \"#0d0887\"], [0.1111111111111111, \"#46039f\"], [0.2222222222222222, \"#7201a8\"], [0.3333333333333333, \"#9c179e\"], [0.4444444444444444, \"#bd3786\"], [0.5555555555555556, \"#d8576b\"], [0.6666666666666666, \"#ed7953\"], [0.7777777777777778, \"#fb9f3a\"], [0.8888888888888888, \"#fdca26\"], [1.0, \"#f0f921\"]], \"sequentialminus\": [[0.0, \"#0d0887\"], [0.1111111111111111, \"#46039f\"], [0.2222222222222222, \"#7201a8\"], [0.3333333333333333, \"#9c179e\"], [0.4444444444444444, \"#bd3786\"], [0.5555555555555556, \"#d8576b\"], [0.6666666666666666, \"#ed7953\"], [0.7777777777777778, \"#fb9f3a\"], [0.8888888888888888, \"#fdca26\"], [1.0, \"#f0f921\"]]}, \"colorway\": [\"#636efa\", \"#EF553B\", \"#00cc96\", \"#ab63fa\", \"#FFA15A\", \"#19d3f3\", \"#FF6692\", \"#B6E880\", \"#FF97FF\", \"#FECB52\"], \"font\": {\"color\": \"#2a3f5f\"}, \"geo\": {\"bgcolor\": \"white\", \"lakecolor\": \"white\", \"landcolor\": \"#E5ECF6\", \"showlakes\": true, \"showland\": true, \"subunitcolor\": \"white\"}, \"hoverlabel\": {\"align\": \"left\"}, \"hovermode\": \"closest\", \"mapbox\": {\"style\": \"light\"}, \"paper_bgcolor\": \"white\", \"plot_bgcolor\": \"#E5ECF6\", \"polar\": {\"angularaxis\": {\"gridcolor\": \"white\", \"linecolor\": \"white\", \"ticks\": \"\"}, \"bgcolor\": \"#E5ECF6\", \"radialaxis\": {\"gridcolor\": \"white\", \"linecolor\": \"white\", \"ticks\": \"\"}}, \"scene\": {\"xaxis\": {\"backgroundcolor\": \"#E5ECF6\", \"gridcolor\": \"white\", \"gridwidth\": 2, \"linecolor\": \"white\", \"showbackground\": true, \"ticks\": \"\", \"zerolinecolor\": \"white\"}, \"yaxis\": {\"backgroundcolor\": \"#E5ECF6\", \"gridcolor\": \"white\", \"gridwidth\": 2, \"linecolor\": \"white\", \"showbackground\": true, \"ticks\": \"\", \"zerolinecolor\": \"white\"}, \"zaxis\": {\"backgroundcolor\": \"#E5ECF6\", \"gridcolor\": \"white\", \"gridwidth\": 2, \"linecolor\": \"white\", \"showbackground\": true, \"ticks\": \"\", \"zerolinecolor\": \"white\"}}, \"shapedefaults\": {\"line\": {\"color\": \"#2a3f5f\"}}, \"ternary\": {\"aaxis\": {\"gridcolor\": \"white\", \"linecolor\": \"white\", \"ticks\": \"\"}, \"baxis\": {\"gridcolor\": \"white\", \"linecolor\": \"white\", \"ticks\": \"\"}, \"bgcolor\": \"#E5ECF6\", \"caxis\": {\"gridcolor\": \"white\", \"linecolor\": \"white\", \"ticks\": \"\"}}, \"title\": {\"x\": 0.05}, \"xaxis\": {\"automargin\": true, \"gridcolor\": \"white\", \"linecolor\": \"white\", \"ticks\": \"\", \"title\": {\"standoff\": 15}, \"zerolinecolor\": \"white\", \"zerolinewidth\": 2}, \"yaxis\": {\"automargin\": true, \"gridcolor\": \"white\", \"linecolor\": \"white\", \"ticks\": \"\", \"title\": {\"standoff\": 15}, \"zerolinecolor\": \"white\", \"zerolinewidth\": 2}}}},\n",
       "                        {\"responsive\": true}\n",
       "                    ).then(function(){\n",
       "                            \n",
       "var gd = document.getElementById('af58dbfd-1418-4a10-ba7f-242db1df2161');\n",
       "var x = new MutationObserver(function (mutations, observer) {{\n",
       "        var display = window.getComputedStyle(gd).display;\n",
       "        if (!display || display === 'none') {{\n",
       "            console.log([gd, 'removed!']);\n",
       "            Plotly.purge(gd);\n",
       "            observer.disconnect();\n",
       "        }}\n",
       "}});\n",
       "\n",
       "// Listen for the removal of the full notebook cells\n",
       "var notebookContainer = gd.closest('#notebook-container');\n",
       "if (notebookContainer) {{\n",
       "    x.observe(notebookContainer, {childList: true});\n",
       "}}\n",
       "\n",
       "// Listen for the clearing of the current output cell\n",
       "var outputEl = gd.closest('.output');\n",
       "if (outputEl) {{\n",
       "    x.observe(outputEl, {childList: true});\n",
       "}}\n",
       "\n",
       "                        })\n",
       "                };\n",
       "                });\n",
       "            </script>\n",
       "        </div>"
      ]
     },
     "metadata": {},
     "output_type": "display_data"
    }
   ],
   "source": [
    "import plotly.graph_objects as go\n",
    "\n",
    "qg_df = widget.get_changed_df()\n",
    "\n",
    "fig = go.Figure(go.Scattermapbox(\n",
    "                        mode = \"markers\",\n",
    "                        lon = qg_df['LON'],\n",
    "                        lat = qg_df['LAT'],\n",
    "                        marker = dict(size= 5, color= 'red'),\n",
    "                        text = qg_df.index+' - '+qg_df['NAME'],\n",
    "                        hoverinfo  = 'text' \n",
    "                                 ))\n",
    "\n",
    "fig.update_layout(  margin = dict(t=0, b=0, r=0, l=0),\n",
    "                    mapbox = dict(\n",
    "                                style= \"open-street-map\",    # open-street-map, carto-positron, stamen-terrain, stamen-toner\n",
    "                                center= dict(lon= 80.9, lat= 7.5),\n",
    "                                zoom= 1) )"
   ]
  },
  {
   "cell_type": "markdown",
   "metadata": {},
   "source": [
    "## 3 bis) Display the map on a separated html file (optionnal)\n",
    "(Library Plotly - Mapbox)\n",
    "- a) Run the cell below to display the map in a separate web explorer window\n",
    "- b) Re run the cell after a filter application, to update the map"
   ]
  },
  {
   "cell_type": "code",
   "execution_count": 27,
   "metadata": {},
   "outputs": [
    {
     "data": {
      "text/plain": [
       "'../out/GHCN.html'"
      ]
     },
     "execution_count": 27,
     "metadata": {},
     "output_type": "execute_result"
    }
   ],
   "source": [
    "\"\"\"\n",
    "Created on Jul 2020\n",
    "@author: Loïc Duffar\n",
    "\"\"\"\n",
    "import plotly.graph_objects as go\n",
    "import plotly\n",
    "\n",
    "qg_df = widget.get_changed_df()\n",
    "\n",
    "# Open mapbox account and pass your access token over here\n",
    "# Mapbox account sign up and access token is free. \n",
    "# Mapbox information: https://www.mapbox.com/help/how-access-tokens-work/#rotating-tokens\n",
    "mapbox_access_token = 'pk.eyJ1IjoibG9pYy1zYWxzZXJvIiwiYSI6ImNrY2syODZvMjFwd2YydG84ZDR2ZXZ2NncifQ.2JN19jp_EvWCpmSi7QgF5A'\n",
    "\n",
    "data = [go.Scattermapbox(\n",
    "    mode = \"markers\",\n",
    "    lon = qg_df['LON'],\n",
    "    lat = qg_df['LAT'],\n",
    "    marker = dict(size= 5, color= 'red'),\n",
    "    text = qg_df.index+' - '+qg_df['NAME'],\n",
    "    textposition='middle right',\n",
    "    hoverinfo  = 'text'\n",
    "        )]\n",
    "\n",
    "layout = go.Layout(\n",
    "    margin ={'l':0,'t':0,'b':0,'r':0},\n",
    "    mapbox = {\n",
    "        'style': \"light\",   # basic, streets, outdoors, light, dark, satellite, satellite-streets\n",
    "        'center': {'lon': 80.9, 'lat': 8},\n",
    "        'zoom': 2,\n",
    "        'accesstoken': mapbox_access_token,\n",
    "        'bearing': 0,\n",
    "        'pitch': 0\n",
    "        }\n",
    "    )                  \n",
    "\n",
    "if os.path.exists('../out')==False: os.mkdir('../out')\n",
    "plotly.offline.plot({\"data\":data, \"layout\":layout}, filename = '../out/GHCN.html')"
   ]
  },
  {
   "cell_type": "markdown",
   "metadata": {},
   "source": [
    "## 4) Save an excel file containing the list and the graph for the selected stations\n",
    "WARNING: Don't do that without filtering the stations in the browser above, otherwise the number of lines (115 000) will exceed the excel limit !"
   ]
  },
  {
   "cell_type": "code",
   "execution_count": 45,
   "metadata": {},
   "outputs": [],
   "source": [
    "qg_df = widget.get_changed_df()\n",
    "\n",
    "if os.path.exists('../out')==False: os.mkdir('../out')\n",
    "writer = pd.ExcelWriter(\"../out/GHCN - Output.xlsx\")\n",
    "workbook  = writer.book\n",
    "qg_df.to_excel(writer, sheet_name='Summary', startrow=18)\n",
    "if os.path.exists('../out/GTHCN - Stations number.png'):\n",
    "    worksheet = writer.sheets['Summary']\n",
    "    worksheet.insert_image('A1', '../out/GTHCN - Stations number.png')\n",
    "writer.save()"
   ]
  }
 ],
 "metadata": {
  "kernelspec": {
   "display_name": "Python 3",
   "language": "python",
   "name": "python3"
  },
  "language_info": {
   "codemirror_mode": {
    "name": "ipython",
    "version": 3
   },
   "file_extension": ".py",
   "mimetype": "text/x-python",
   "name": "python",
   "nbconvert_exporter": "python",
   "pygments_lexer": "ipython3",
   "version": "3.7.7"
  }
 },
 "nbformat": 4,
 "nbformat_minor": 4
}
